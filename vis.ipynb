{
 "cells": [
  {
   "cell_type": "code",
   "execution_count": null,
   "metadata": {
    "id": "znBXfPLIZmXK"
   },
   "outputs": [],
   "source": [
    "# Loading SMPLx Body Model\n",
    "import torch\n",
    "from os import path as osp\n",
    "\n",
    "from human_body_prior.body_model.body_model import BodyModel\n",
    "from src.configs import Configs\n",
    "\n",
    "# Choose the device to run the body model on, cuda or cpu\n",
    "device = torch.device(\"cuda\" if torch.cuda.is_available() else \"cpu\")\n",
    "print(\"device is\", device)\n",
    "\n",
    "configs = Configs()\n",
    "\n",
    "bm_fname = osp.join(configs.vposer_dir, \"smplx_neutral_model.npz\")\n",
    "bm = BodyModel(bm_fname=bm_fname).to(device)"
   ]
  },
  {
   "cell_type": "code",
   "execution_count": null,
   "metadata": {
    "id": "E-96bbSCcBuz"
   },
   "outputs": [],
   "source": [
    "# Loading VPoser VAE Body Pose Prior\n",
    "from src.models import load_vposer\n",
    "\n",
    "vp = load_vposer(configs)\n",
    "vp = vp.to(device)"
   ]
  },
  {
   "cell_type": "code",
   "execution_count": null,
   "metadata": {},
   "outputs": [],
   "source": [
    "from eval import build_evaluator\n",
    "\n",
    "evaluator = build_evaluator(configs)\n",
    "evaluator.eval()"
   ]
  },
  {
   "cell_type": "code",
   "execution_count": null,
   "metadata": {},
   "outputs": [],
   "source": [
    "(poses_input, poses_target, embed_input, embed_target) = evaluator.dataloader.dataset[5]\n",
    "\n",
    "embed_input = embed_input.to(device)\n",
    "poses_target = poses_target.to(device)\n",
    "\n",
    "evaluator.model.to(device)\n",
    "evaluator.model.eval()\n",
    "\n",
    "poses_pred = evaluator.generate(embed_input.unsqueeze(0)).squeeze(0)\n",
    "\n",
    "print(poses_pred.size())\n",
    "print(poses_target.size())"
   ]
  },
  {
   "cell_type": "code",
   "execution_count": null,
   "metadata": {
    "id": "ASdmx8xmzpQp"
   },
   "outputs": [],
   "source": [
    "# Get vertices and faces of a polygonal mesh model for each body pose\n",
    "\n",
    "from human_body_prior.tools.omni_tools import copy2cpu as c2c\n",
    "import trimesh\n",
    "\n",
    "originalPoses = { \"pose_body\": poses_target }\n",
    "recoveredPoses = { \"pose_body\": poses_pred }\n",
    "\n",
    "bmodelorig = bm(**originalPoses);\n",
    "bmodelreco = bm(**recoveredPoses);\n",
    "vorig = c2c(bmodelorig.v)\n",
    "vreco = c2c(bmodelreco.v)\n",
    "faces = c2c(bm.f)\n",
    "\n",
    "T, num_verts = vorig.shape[:-1]"
   ]
  },
  {
   "cell_type": "code",
   "execution_count": null,
   "metadata": {
    "id": "V-Hqh4Fe3ja4"
   },
   "outputs": [],
   "source": [
    "# Visualize one frame's body pose before (grey) and after (purple) encode-decode\n",
    "fIdx = 10\n",
    "verts = vorig[fIdx]\n",
    "mesh1 = trimesh.base.Trimesh(verts, faces)\n",
    "mesh1.visual.vertex_colors = [254, 254, 254]\n",
    "verts = vreco[fIdx]\n",
    "mesh2 = trimesh.base.Trimesh(verts, faces)\n",
    "mesh2.visual.vertex_colors = [254, 66, 200]\n",
    "mesh2.apply_translation([1, 0, 0]) # use [0, 0, 0] to overlay them on each other\n",
    "meshes = [mesh1, mesh2]\n",
    "trimesh.Scene(meshes).show()"
   ]
  },
  {
   "cell_type": "code",
   "execution_count": 7,
   "metadata": {
    "collapsed": true,
    "id": "WzyGrR8L-Gmh"
   },
   "outputs": [],
   "source": [
    "# Visualize a temporal subsequence of poses spatially (use mouse to rotate view)\n",
    "# Note that encoding followed by decoding is not a lossless process,\n",
    "# It can introduce a certain amount of error all by itself\n",
    "\n",
    "meshes = []\n",
    "\n",
    "for fIdx in range(25):\n",
    "    verts = vorig[fIdx]\n",
    "    mesh1 = trimesh.base.Trimesh(verts, faces)\n",
    "    mesh1.visual.vertex_colors = [254, 254, 254]\n",
    "    mesh1.apply_translation([0, 0, fIdx * .07])\n",
    "    meshes.append(mesh1)\n",
    "    verts = vreco[fIdx]\n",
    "    mesh1 = trimesh.base.Trimesh(verts, faces)\n",
    "    mesh1.visual.vertex_colors = [254, 150, 200]\n",
    "    mesh1.apply_translation([0, 0, fIdx * .07])\n",
    "    meshes.append(mesh1)\n",
    "\n",
    "trimesh.Scene(meshes).show()"
   ]
  },
  {
   "cell_type": "code",
   "execution_count": 8,
   "metadata": {
    "id": "i3ztwAADQmjg"
   },
   "outputs": [],
   "source": [
    "# Extract and visualize 23 body joints before and after encode-decode process\n",
    "# for a pose where error between original pose and decoded pose is rather large.\n",
    "# Why 23 instead of 21 mentioned earlier? There are two extra joints somewhere\n",
    "# that are not among the 21 rotatable body joints used by VPoser.\n",
    "\n",
    "fIdx = 14\n",
    "\n",
    "verts = vorig[fIdx]\n",
    "mesh1 = trimesh.base.Trimesh(verts, faces)\n",
    "mesh1.visual.vertex_colors = [254, 254, 254]\n",
    "verts = vreco[fIdx]\n",
    "mesh2 = trimesh.base.Trimesh(verts, faces)\n",
    "mesh2.visual.vertex_colors = [254, 66, 200]\n",
    "mesh2.apply_translation([0, 0, 0])  # use [0, 0, 0] to overlay them on each other\n",
    "meshes = [mesh1, mesh2]\n",
    "\n",
    "\n",
    "# Get the 23 major 3D body joints\n",
    "joints = c2c(bmodelorig.Jtr[fIdx])\n",
    "origjoints = joints[0:23, :]   # ignore finger joints\n",
    "joints = c2c(bmodelreco.Jtr[fIdx])\n",
    "recojoints = joints[0:23, :]   # ignore finger joints\n",
    "\n",
    "print(origjoints.shape, recojoints.shape)\n",
    "\n",
    "for i in range(origjoints.shape[0]):\n",
    "    sphere = trimesh.primitives.Sphere(radius=.02, center=origjoints[i,:])\n",
    "    sphere.apply_translation([1, 0, 0])\n",
    "    sphere.visual.vertex_colors = [254, 254, 254]\n",
    "    meshes.append(sphere)\n",
    "    sphere = trimesh.primitives.Sphere(radius=.02, center=recojoints[i,:])\n",
    "    sphere.apply_translation([1, 0, 0])\n",
    "    sphere.visual.vertex_colors = [254, 150, 200]\n",
    "    meshes.append(sphere)\n",
    "\n",
    "trimesh.Scene(meshes).show()"
   ]
  }
 ],
 "metadata": {
  "colab": {
   "authorship_tag": "ABX9TyML8a8Oe7psGsbZY8yY4iWd",
   "mount_file_id": "1J2upH87AU5O-RbSmWQA9v7gLLZ6XeNSX",
   "provenance": []
  },
  "kernelspec": {
   "display_name": "vposer",
   "language": "python",
   "name": "python3"
  },
  "language_info": {
   "codemirror_mode": {
    "name": "ipython",
    "version": 3
   },
   "file_extension": ".py",
   "mimetype": "text/x-python",
   "name": "python",
   "nbconvert_exporter": "python",
   "pygments_lexer": "ipython3",
   "version": "3.13.2"
  }
 },
 "nbformat": 4,
 "nbformat_minor": 0
}
